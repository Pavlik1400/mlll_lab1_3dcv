{
 "cells": [
  {
   "cell_type": "markdown",
   "metadata": {
    "id": "uYSAaNS-61j6",
    "pycharm": {
     "name": "#%% md\n"
    }
   },
   "source": [
    "# 3D CV laboratory assignment\n",
    "\n",
    "In many computer vision problems, a real-world object $B$ is represented by its 3d-model in the form of a ***point cloud***, i.e., a set $\\mathcal{P} =\\{\\mathbf{x}_j\\}_{j=1}^N \\subset \\mathbb{R}^3$ of points $\\mathbf{x}_j$ on the boundary $\\partial B$ of $B$. One of the most important tasks in 3D CV is to determine the local geometry of $B$ around a point $\\mathbf{y}_0\\subset \\partial B$ from the point cloud $\\mathcal{P}$, which includes finding \n",
    "\n",
    "*   the ***normal*** to the boundary $\\partial B$ at $\\mathbf{y}_0$\n",
    "*   the ***principal directions*** at $\\mathbf{y}_0$, along which the surface shows the extreme behavior\n",
    "*   the ***principal curvatures*** that characterize \"flatness\" of $\\partial B$ in the principal directions \n",
    "\n",
    "Ability to estimate these features is crucial in constructing accurate surface models (e.g. differentiable meshes).\n",
    "\n",
    "The aim of this lab assignment is to formulate the tasks of determining these fetures as optimization problems and suggest simple efficient ways to solve them. \n",
    "\n",
    "For testing purposes, we'll be working with model convex body $B$ that is the ellipsoid\n",
    "$$\n",
    "\tE: \\quad \\frac{x^2}{a^2} + \\frac{y^2}{b^2} + \\frac{z^2}{c^2} \\le 1,\n",
    "$$\n",
    "since all the quantities of interest are explicitly available in that case. Observe that the boundary $E:=\\partial B$ can be written in spherical coordinates as \n",
    "$\n",
    "\t\\quad x = a \\cos \\phi \\sin\\psi , \\quad y = b \\sin \\phi \\sin \\psi, \\quad z = c \\cos \\psi,\\quad\n",
    "$\n",
    "with $\\phi \\in [0,2\\pi)$ and $\\psi \\in [0,\\pi]$. By generating randomly the spherical angles $\\phi$ and $\\psi$, we'll generate a good point cloud of $E$.\n",
    "\n",
    "\n",
    "\n",
    "## Instructions \n",
    "\n",
    "1.   Form a team of two; copy the notebook to your Google Drive, rename it\n",
    "2.   Fill in the $\\dots$ blanks in the code and comment sections\n",
    "3.   Do not delete any cells or comments; do not move the cells around\n",
    "4.   Submit your notebook to **cms** along with the pdf output. Do not forget to run all cells before submission. Also, do not make *looong* prints\n"
   ]
  },
  {
   "cell_type": "markdown",
   "metadata": {
    "id": "M7Tv7PIyzYBF",
    "pycharm": {
     "name": "#%% md\n"
    }
   },
   "source": [
    "## 1. Preparation and Data Generation **(1 pt)**\n",
    "\n",
    "### 1.1 First we need to import packages\n"
   ]
  },
  {
   "cell_type": "code",
   "execution_count": 3,
   "metadata": {
    "executionInfo": {
     "elapsed": 6,
     "status": "ok",
     "timestamp": 1652927627098,
     "user": {
      "displayName": "Rostyslav Hryniv",
      "userId": "02208197071590517236"
     },
     "user_tz": -180
    },
    "id": "7DS_Iko4BC_l",
    "pycharm": {
     "name": "#%%\n"
    }
   },
   "outputs": [],
   "source": [
    "# import libraries\n",
    "import numpy as np\n",
    "import matplotlib.pyplot as plt\n",
    "from mpl_toolkits.mplot3d import Axes3D"
   ]
  },
  {
   "cell_type": "markdown",
   "metadata": {
    "id": "OFsnufXK61kA",
    "pycharm": {
     "name": "#%% md\n"
    }
   },
   "source": [
    "### 1.2 Let's fix configuration parameters"
   ]
  },
  {
   "cell_type": "code",
   "execution_count": 4,
   "metadata": {
    "executionInfo": {
     "elapsed": 2,
     "status": "ok",
     "timestamp": 1652927629954,
     "user": {
      "displayName": "Rostyslav Hryniv",
      "userId": "02208197071590517236"
     },
     "user_tz": -180
    },
    "id": "3LA3ZKlM61kB",
    "pycharm": {
     "name": "#%%\n"
    }
   },
   "outputs": [],
   "source": [
    "#  fix parameters of the ellipse\n",
    "a = 5.0\n",
    "b = 3.0\n",
    "c = 3.0"
   ]
  },
  {
   "cell_type": "markdown",
   "metadata": {
    "id": "d52C9C_E61kC",
    "pycharm": {
     "name": "#%% md\n"
    }
   },
   "source": [
    "### 1.3 Now we set up functions for surface points and normal to the boundary"
   ]
  },
  {
   "cell_type": "code",
   "execution_count": 5,
   "metadata": {
    "executionInfo": {
     "elapsed": 263,
     "status": "ok",
     "timestamp": 1652927639080,
     "user": {
      "displayName": "Rostyslav Hryniv",
      "userId": "02208197071590517236"
     },
     "user_tz": -180
    },
    "id": "1YLP0nq2ArHm",
    "pycharm": {
     "name": "#%%\n"
    }
   },
   "outputs": [],
   "source": [
    "#  generate a point on the ellipsoid \n",
    "def surface_point(sph_angles):\n",
    "  \"\"\"\n",
    "  sph_angles is an array of two spherical angles: 0 \\le \\phi \\le 2 \\pi, 0 \\le \\psi \\le \\pi\n",
    "  \"\"\"\n",
    "  phi = sph_angles[0]\n",
    "  psi = sph_angles[1]\n",
    "  return np.array([a * np.cos(phi) * np.sin(psi), b * np.sin(phi) * np.sin(psi), c* np.cos(psi)])"
   ]
  },
  {
   "cell_type": "code",
   "execution_count": 6,
   "metadata": {
    "executionInfo": {
     "elapsed": 3,
     "status": "ok",
     "timestamp": 1652927641906,
     "user": {
      "displayName": "Rostyslav Hryniv",
      "userId": "02208197071590517236"
     },
     "user_tz": -180
    },
    "id": "y4zBIj-jHSp1",
    "pycharm": {
     "name": "#%%\n"
    }
   },
   "outputs": [],
   "source": [
    "def normalize(vec):\n",
    "  \"\"\"\n",
    "  Helper function to normalize a vector vec (np.array)\n",
    "  \"\"\"\n",
    "  return vec / np.sqrt(np.dot(vec,vec))"
   ]
  },
  {
   "cell_type": "code",
   "execution_count": 7,
   "metadata": {
    "executionInfo": {
     "elapsed": 301,
     "status": "ok",
     "timestamp": 1652927642974,
     "user": {
      "displayName": "Rostyslav Hryniv",
      "userId": "02208197071590517236"
     },
     "user_tz": -180
    },
    "id": "-TycWNIKIyR8",
    "pycharm": {
     "name": "#%%\n"
    }
   },
   "outputs": [],
   "source": [
    "def normal(sph_angles):\n",
    "  \"\"\"\n",
    "  returns a normalized normal \n",
    "  \"\"\"\n",
    "  x, y, z = surface_point(sph_angles)\n",
    "  nvec = np.array([x / a**2,  y / b**2, z / c**2])\n",
    "  return normalize(nvec)"
   ]
  },
  {
   "cell_type": "markdown",
   "metadata": {
    "id": "NbwWAf1nsv60",
    "pycharm": {
     "name": "#%% md\n"
    }
   },
   "source": [
    "### 1.4 Surface patch\n",
    "\n",
    "Generate a surface patch around a point $\\mathbf{y}_0 \\in \\partial B$"
   ]
  },
  {
   "cell_type": "code",
   "execution_count": 8,
   "metadata": {
    "executionInfo": {
     "elapsed": 248,
     "status": "ok",
     "timestamp": 1652932780802,
     "user": {
      "displayName": "Rostyslav Hryniv",
      "userId": "02208197071590517236"
     },
     "user_tz": -180
    },
    "id": "e06nyyfwGlUC",
    "pycharm": {
     "name": "#%%\n"
    }
   },
   "outputs": [],
   "source": [
    "def randrange(n, vmin, vmax):\n",
    "    \"\"\"\n",
    "    Helper function to make an array of random numbers having shape (n, )\n",
    "    with each number distributed Uniform(vmin, vmax).\n",
    "    \"\"\"\n",
    "    return (vmax - vmin)*np.random.rand(n) + vmin"
   ]
  },
  {
   "cell_type": "code",
   "execution_count": 9,
   "metadata": {
    "executionInfo": {
     "elapsed": 3,
     "status": "ok",
     "timestamp": 1652932781166,
     "user": {
      "displayName": "Rostyslav Hryniv",
      "userId": "02208197071590517236"
     },
     "user_tz": -180
    },
    "id": "vFs1idYGDI8O",
    "pycharm": {
     "name": "#%%\n"
    }
   },
   "outputs": [],
   "source": [
    "#  generate a patch around a point\n",
    "def surface_patch(phi, psi, no_pts = 1000, size = 0.1):\n",
    "  phis = randrange(no_pts, - size, size) + phi\n",
    "  psis = randrange(no_pts, - size, size) + psi\n",
    "  \n",
    "  angles = np.transpose([phis, psis])\n",
    "  \n",
    "  X = np.array([surface_point(angles[i]) for i in range(len(angles))])\n",
    "\n",
    "  return X"
   ]
  },
  {
   "cell_type": "markdown",
   "metadata": {
    "collapsed": false,
    "pycharm": {
     "name": "#%% md\n"
    }
   },
   "source": [
    "### ***Question:***\n",
    "\n",
    "*   Explain the role of the hyperparameters `no_pts` and `size`\n",
    "\n",
    "-----\n",
    "- `no_pts` - number of points for surface patch  we're generating\n",
    "- `size` - angles for ellipsoid are generated uniformly randomly in the range (-size + c, size + c), so that is basically 1/2 of size of range, where we generate angles.\n",
    "\n"
   ]
  },
  {
   "cell_type": "markdown",
   "metadata": {
    "collapsed": false,
    "pycharm": {
     "name": "#%% md\n"
    }
   },
   "source": [
    "### 1.5 Visualization\n",
    "\n",
    "This is the function to visualize the patch \n"
   ]
  },
  {
   "cell_type": "code",
   "execution_count": 10,
   "metadata": {
    "collapsed": false,
    "pycharm": {
     "name": "#%%\n"
    }
   },
   "outputs": [],
   "source": [
    "def patch_plot(X):\n",
    "  \"\"\"\n",
    "  X is the np.array of shape (n, 3) of surface points\n",
    "  \"\"\"\n",
    "  fig = plt.figure()\n",
    "  ax = fig.add_subplot(111, projection='3d')\n",
    "\n",
    "  # Set axes limit\n",
    "  #plt.xlim(-a,a)\n",
    "  #plt.ylim(-b,b)\n",
    "  \n",
    "  ax.scatter(X[:,0], X[:,1], X[:,2])\n",
    "\n",
    "  ax.set_xlabel('X Label')\n",
    "  ax.set_ylabel('Y Label')\n",
    "  ax.set_zlabel('Z Label')\n",
    "\n",
    "  plt.show()"
   ]
  },
  {
   "cell_type": "code",
   "execution_count": 11,
   "metadata": {
    "collapsed": false,
    "pycharm": {
     "name": "#%%\n"
    }
   },
   "outputs": [
    {
     "data": {
      "image/png": "[encoded data removed]",
      "text/plain": [
       "<Figure size 432x288 with 1 Axes>"
      ]
     },
     "metadata": {
      "needs_background": "light"
     },
     "output_type": "display_data"
    }
   ],
   "source": [
    "patch_plot(surface_patch(1, -1, 1000, 0.1))"
   ]
  },
  {
   "cell_type": "markdown",
   "metadata": {
    "collapsed": false,
    "pycharm": {
     "name": "#%% md\n"
    }
   },
   "source": [
    "---  \n",
    "---  \n",
    "## 2. Normal to the plane (**14 pts**)\n",
    "\n",
    "Our first step is to estimate the ***normal*** to the boundary $\\partial B$ of $B$. \n",
    "\n",
    "The problem seems trivial but in fact its efficient solution is crucial for almost all next steps in geometrically-based analysis. In this part of the assignment, you are asked to implement several different approaches, compare their efficiency and then suggest some improvements. "
   ]
  },
  {
   "cell_type": "markdown",
   "metadata": {
    "collapsed": false,
    "pycharm": {
     "name": "#%% md\n"
    }
   },
   "source": [
    "### 2.1. A naive approach (**4 pts**)\n",
    "\n",
    "Recall that, for a convex body $B$ with boundary $\\partial B$, $\\mathbf{y}_0 \\in \\partial B$, and $\\mathbf{n}$ a normal to $\\partial B$ at $\\mathbf{y}_0$, we have\n",
    "$$\n",
    "\t\t\\mathbf{n} \\cdot (\\mathbf{x}-\\mathbf{y}_0) \\le 0\n",
    "$$\n",
    "for every $\\mathbf{x} \\in B$. Therefore, a natural minimization task to determine $\\mathbf{n}$ is \n",
    "$$\n",
    "\t\t\\mbox{argmin}_{\\mathbf{n}} \\sum_{k=1}^m \\mathbf{n} \\cdot (\\mathbf{y}_k - \\mathbf{y}_0), \\qquad \\|\\mathbf{n}\\| = 1.\n",
    "$$\n",
    "Solution of this problem can be obtained in the closed form, without any extra tools. "
   ]
  },
  {
   "cell_type": "markdown",
   "metadata": {
    "collapsed": false,
    "pycharm": {
     "name": "#%% md\n"
    }
   },
   "source": [
    "### 2.1.1. ***Question (2 pts)***\n",
    "\n",
    "\n",
    "*   Derive the closed form solution of the above minimization problem by setting the gradient to zero\n",
    "\n",
    "...\n",
    "\n",
    "\n",
    "\n",
    "$S=\\sum_{k=1}^m n\\cdot(y_k-y_0)= n_1 \\sum_{k=1}^m (y_{k1}-y_{01}) + n_2 \\sum_{k=1}^m (y_{k2}-y_{02}) + n_3 \\sum_{k=1}^m (y_{k3}-y_{03})=n_1 A + n_2 B + n_3 C$, where $n_1$, $n_2$, $n_3$ - components of $n$\n",
    "\n",
    "\n",
    "Since we have condition $||n|| = 1; n_1^2+n_2^2+n_3^2=1$, we get the following Lagrangian:\n",
    "\n",
    "\n",
    "$$L= n_1 A + n_2 B + n_3 B - (n_1^2+n_2^2+n_3^2 - 1) \\lambda$$\n",
    "\n",
    "\n",
    "$$L' = 0;\\;\\; L_{n_1}'=A+2n_1\\lambda=0;\\;\\;  L_{n_2}'=B+2n_2\\lambda=0;\\;\\;  L_{n_3}'=A+2n_3\\lambda=0;\\;\\; L_{\\lambda}=n_1^2+n_2^2+n_3^2-1=0 $$\n",
    "$$L_{\\lambda}' = \\frac{A^2+B^2+C^2}{4\\lambda^2}-1=0 \\rightarrow \\lambda=\\pm\\frac{\\sqrt{A^2+B^2+C^2}}{2} \\rightarrow n=\\mp(\\frac{A}{{\\sqrt{A^2+B^2+C^2}}};\\frac{B}{{\\sqrt{A^2+B^2+C^2}}};\\frac{C}{{\\sqrt{A^2+B^2+C^2}}})$$\n",
    "\n",
    "Now since we want to minimize loss function, and we have two critical function, we must verify second derivative.\n",
    "\n",
    "Since $S_{n_i}' = A/B/C + 2 n_i \\lambda$, $S_{n_i}'' = 2 \\lambda$, since we want minimum, second derivative should be > 0, so we take\n",
    "$$\\lambda=\\frac{\\sqrt{A^2+B^2+C^2}}{2}$$\n",
    "and\n",
    "$$n=(\\frac{-A}{{\\sqrt{A^2+B^2+C^2}}};\\frac{-B}{{\\sqrt{A^2+B^2+C^2}}};\\frac{-C}{{\\sqrt{A^2+B^2+C^2}}})$$\n",
    "\n",
    "\n",
    "The result is quite intuitive, since this is just normalized $-centroid + y_0$\n",
    "\n",
    "...\n"
   ]
  },
  {
   "cell_type": "markdown",
   "metadata": {
    "collapsed": false,
    "pycharm": {
     "name": "#%% md\n"
    }
   },
   "source": [
    "### 2.1.2. Code (**1 pt**)"
   ]
  },
  {
   "cell_type": "code",
   "execution_count": 12,
   "metadata": {
    "collapsed": false,
    "pycharm": {
     "name": "#%%\n"
    }
   },
   "outputs": [],
   "source": [
    "def normal_estimate_lin(X, y):\n",
    "  \"\"\"\n",
    "  implementation of the naive approach\n",
    "  \"\"\"\n",
    "  return -normalize(np.sum(X-y, axis=0))"
   ]
  },
  {
   "cell_type": "markdown",
   "metadata": {
    "collapsed": false,
    "pycharm": {
     "name": "#%% md\n"
    }
   },
   "source": [
    "### 2.1.3. Test the approach on random points"
   ]
  },
  {
   "cell_type": "code",
   "execution_count": 13,
   "metadata": {
    "collapsed": false,
    "pycharm": {
     "name": "#%%\n"
    }
   },
   "outputs": [
    {
     "name": "stdout",
     "output_type": "stream",
     "text": [
      "Estimated normal [0.16667197 0.48634412 0.85772365]\n",
      "Actual normal [0.05665348 0.47692136 0.87711824]\n"
     ]
    }
   ],
   "source": [
    "phi, psi = np.pi * np.random.sample(2)\n",
    "\n",
    "y = surface_point([phi, psi])\n",
    "X = surface_patch(phi, psi, no_pts = 1000_00, size = 3)   # original params: no_pts=1000, size=3\n",
    "\n",
    "print(\"Estimated normal\", normal_estimate_lin(X,y))\n",
    "print(\"Actual normal\", normal([phi, psi]))"
   ]
  },
  {
   "cell_type": "markdown",
   "metadata": {
    "collapsed": false,
    "pycharm": {
     "name": "#%% md\n"
    }
   },
   "source": [
    "### ***Question (1 pt)***\n",
    "\n",
    "* Try tuning hyper-parameters to optimize performance\n",
    "    Generaly the bigger number of points `no_pts` and the bigger size of range from where we sample points `size`, the better estimation. The reason is very obvious - more points better estimate surface that is actually smooth. Also bigger `size` assures that we get big enough neighborhood.\n",
    "* Think why the naive approach does not return a good result\n",
    "    a) points far from $y_0$ shouldn't influence normal at this point much.\n",
    "    b) Since we sample points at random, they are not evenly distributed in space, result is highly biased, since we directly from points estimate normal.\n"
   ]
  },
  {
   "cell_type": "markdown",
   "metadata": {
    "collapsed": false,
    "pycharm": {
     "name": "#%% md\n"
    }
   },
   "source": [
    "## 2.2. Weighting the points (**4 pts**)\n",
    "\n",
    "Points that are far from the point $\\mathbf{y}_0$ bear less information about geometry around $\\mathbf{y}_0$ and therefore should contribute less in determining $\\mathbf{n}$. We'll use exponentially decaying weights $w_j = \\exp(-c\\|\\mathbf{y_j}- \\mathbf{y}_0\\|^2)$ to improve the naive approach "
   ]
  },
  {
   "cell_type": "markdown",
   "metadata": {
    "collapsed": false,
    "pycharm": {
     "name": "#%% md\n"
    }
   },
   "source": [
    "### 2.2.1. Setting the weights"
   ]
  },
  {
   "cell_type": "code",
   "execution_count": 14,
   "metadata": {
    "collapsed": false,
    "pycharm": {
     "name": "#%%\n"
    }
   },
   "outputs": [],
   "source": [
    "def sqdist(x, y):\n",
    "  return np.dot(x - y, x - y)\n",
    "\n",
    "def weights(X, y, c):\n",
    "  weights = np.sum(np.multiply(X-y, X-y), axis = 1)\n",
    "  return  np.exp(- c * weights)    "
   ]
  },
  {
   "cell_type": "markdown",
   "metadata": {
    "collapsed": false,
    "pycharm": {
     "name": "#%% md\n"
    }
   },
   "source": [
    "### 2.2.2. Weighted naive approach (**2 pts**)\n",
    "\n",
    "Rederive the solution of the optimization task to determine $\\mathbf{n}$ \n",
    "$$\n",
    "\t\t\\mbox{argmin}_{\\mathbf{n}} \\sum_{k=1}^m w_j \\ \\mathbf{n} \\cdot (\\mathbf{y}_k - \\mathbf{y}_0), \\qquad \\|\\mathbf{n}\\| = 1.\n",
    "$$\n",
    "\n",
    "\n",
    "Since weights are just constant number that are calculated before everyhing, they don't influence derivative. We just have to redefine $A$, $B$, $C$\n",
    "\n",
    "$A=\\sum_{k=1}^m (y_{k1}-y_{01}) \\rightarrow A'=\\sum_{k=1}^m w_k (y_{k1}-y_{01})$,\n",
    "$B=\\sum_{k=1}^m (y_{k2}-y_{02}) \\rightarrow B'=\\sum_{k=1}^m w_k (y_{k2}-y_{02})$,\n",
    "$C=\\sum_{k=1}^m (y_{k3}-y_{03}) \\rightarrow C'=\\sum_{k=1}^m w_k (y_{k3}-y_{03})$,\n",
    "\n",
    "$$n=(\\frac{-A'}{{\\sqrt{A'^2+B'^2+C'^2}}};\\frac{-B'}{{\\sqrt{A'^2+B'^2+C'^2}}};\\frac{-C'}{{\\sqrt{A'^2+B'^2+C'^2}}})$$\n"
   ]
  },
  {
   "cell_type": "markdown",
   "metadata": {
    "collapsed": false,
    "pycharm": {
     "name": "#%% md\n"
    }
   },
   "source": [
    "### 2.2.3. Code and testing (**1 pt**)"
   ]
  },
  {
   "cell_type": "code",
   "execution_count": 15,
   "metadata": {
    "collapsed": false,
    "pycharm": {
     "name": "#%%\n"
    }
   },
   "outputs": [],
   "source": [
    "def normal_estimate_weight(X, y, c):\n",
    "  wghts = weights(X, y, c)\n",
    "  # print(min(wghts))                   #min\n",
    "  # print(max(wghts))                   #max\n",
    "  # print(np.mean(wghts))               #average\n",
    "  # print(sorted(wghts)[len(wghts)//2]) # mode\n",
    "  return -normalize(np.sum((X-y)*wghts.reshape((-1, 1)), axis=0))"
   ]
  },
  {
   "cell_type": "code",
   "execution_count": 16,
   "metadata": {
    "collapsed": false,
    "pycharm": {
     "name": "#%%\n"
    }
   },
   "outputs": [
    {
     "name": "stdout",
     "output_type": "stream",
     "text": [
      "Estimated normal [0.78642481 0.43383922 0.43968119]\n",
      "Actual normal [0.42183189 0.60890755 0.6717808 ]\n"
     ]
    }
   ],
   "source": [
    "# phi, psi = 1, 1\n",
    "phi, psi = np.pi * np.random.sample(2)\n",
    "\n",
    "\n",
    "y = surface_point([phi, psi])\n",
    "X = surface_patch(phi, psi, no_pts = 1000_00, size = 3)\n",
    "\n",
    "print(\"Estimated normal\", normal_estimate_weight(X, y, 0.008))\n",
    "print(\"Actual normal\", normal([phi, psi]))"
   ]
  },
  {
   "cell_type": "markdown",
   "metadata": {
    "collapsed": false,
    "pycharm": {
     "name": "#%% md\n"
    }
   },
   "source": [
    "### 2.2.4. Conclusions (**1 pt**)\n",
    "\n",
    "...\n",
    "\n",
    "Looks like weighting didn't change much, estimation is still very bad, and unstable (highly depends on generated points).\n",
    "I didn't manage to find parameters that would outperform previous approach\n",
    "\n",
    "..."
   ]
  },
  {
   "cell_type": "markdown",
   "metadata": {
    "collapsed": false,
    "pycharm": {
     "name": "#%% md\n"
    }
   },
   "source": [
    "## 2.3. Tangent plane (**4 pts**)\n",
    "\n",
    "The tangent plane $\\pi$ at the point $\\mathbf{y}_0$ gives a very good approximation to the surface $\\partial B$ in a neighbourhood of $\\mathbf{y}_0$, and thus the distances to $\\pi$ from the neighbouring points should be small. In the second approach, we find the tangent plane $\\pi_0$ (and thus its normal vector $\\mathbf{n}$) as a plane minimizing the (weighted) sum of distances to the points $\\mathbf{y}_k$:\n",
    "$$\n",
    "\t\t\\pi_0 :=\t\\mbox{argmin}_{\\pi} \\sum_{k=1}^{m} w_k \\mbox{dist}(\\mathbf{y}_k, \\pi)\n",
    "$$\n",
    "The difference with the previous approach is that we are summing the absolute values $|\\mathbf{n} \\cdot (\\mathbf{y}_k-\\mathbf{y}_0)|$ of the scalar products. \n"
   ]
  },
  {
   "cell_type": "markdown",
   "metadata": {
    "collapsed": false,
    "pycharm": {
     "name": "#%% md\n"
    }
   },
   "source": [
    "### 2.3.1. Gradient\n",
    "\n",
    "***Task (2 pts)*** \n",
    "\n",
    "*   Calculate the gradient of the objective function $f(\\mathbf{n}) = \\sum_{k=1}^{m} w_k |\\mathbf{n} \\cdot (\\mathbf{y}_k-\\mathbf{y}_0)|$\n",
    "\n",
    "...\n",
    "\n",
    "$$S'=(\\sum_{k=1}^m w_k |n (y_k-y_0)|)' = \\sum_{k=1}^m w_k  |n (y_k-y_0)|' = \\sum_{k=1}^m w_k \\cdot sign(n (y_k-y_0)) \\cdot (y_k-y_0)$$\n",
    "\n",
    "\n",
    "So basically, we just have to multiply weights by sign of $n (y_k-y_0)$ and than return weighted $\\sum_{k=1}^m (y_k-y_0)$.\n",
    "...\n",
    "\n",
    "\n"
   ]
  },
  {
   "cell_type": "markdown",
   "metadata": {
    "collapsed": false,
    "pycharm": {
     "name": "#%% md\n"
    }
   },
   "source": [
    "### 2.3.2. Code (**2 pts**)"
   ]
  },
  {
   "cell_type": "code",
   "execution_count": 17,
   "metadata": {
    "collapsed": false,
    "pycharm": {
     "name": "#%%\n"
    }
   },
   "outputs": [],
   "source": [
    "def grad(X, y, nvec, c = 100):\n",
    "  wghts = weights(X, y, c)\n",
    "  # positive = np.where(np.dot(X, nvec) > np.dot(y, nvec))[0]\n",
    "  signs = np.sign(np.dot(X-y, nvec))\n",
    "  new_weights = wghts * signs\n",
    "  return np.sum((X-y)*new_weights.reshape((-1, 1)), axis=0)"
   ]
  },
  {
   "cell_type": "code",
   "execution_count": 18,
   "metadata": {
    "collapsed": false,
    "pycharm": {
     "name": "#%%\n"
    }
   },
   "outputs": [],
   "source": [
    "def objective(X, y, nvec):\n",
    "  return np.dot(nvec, grad(X, y, nvec))"
   ]
  },
  {
   "cell_type": "markdown",
   "metadata": {
    "collapsed": false,
    "pycharm": {
     "name": "#%% md\n"
    }
   },
   "source": [
    "\n",
    "### 2.3.3. We'll use the gradient descent approach to determine the solution"
   ]
  },
  {
   "cell_type": "code",
   "execution_count": 20,
   "metadata": {
    "collapsed": false,
    "pycharm": {
     "name": "#%%\n"
    }
   },
   "outputs": [],
   "source": [
    "### gradient descent estimate\n",
    "\n",
    "def grad_desc_tangent(X, y):\n",
    "  alpha = 0.01  # learning rate\n",
    "  steps = 0\n",
    "  nvec = normal_estimate_lin(X,y)\n",
    "  g_cur = objective(X, y, nvec)\n",
    "\n",
    "  while alpha > 0.0001 and steps < 10000:\n",
    "    steps +=1\n",
    "    nvec = nvec - np.multiply(grad(X, y, nvec), alpha)\n",
    "    nvec = normalize(nvec)\n",
    "    \n",
    "    if objective(X, y, nvec) > g_cur:\n",
    "      alpha = alpha/2\n",
    "    else:   \n",
    "      g_cur = objective(X, y, nvec)\n",
    "\n",
    "  # print(steps)\n",
    "  return nvec"
   ]
  },
  {
   "cell_type": "markdown",
   "metadata": {
    "collapsed": false,
    "pycharm": {
     "name": "#%% md\n"
    }
   },
   "source": [
    "### 2.3.4. Test the implementation"
   ]
  },
  {
   "cell_type": "code",
   "execution_count": 21,
   "metadata": {
    "collapsed": false,
    "pycharm": {
     "name": "#%%\n"
    }
   },
   "outputs": [
    {
     "name": "stdout",
     "output_type": "stream",
     "text": [
      "Result of the gradient descent:  [-0.00291891  0.04940135  0.99877474]\n",
      "Actual normal:  [-0.00277699  0.04786084  0.99885015]\n"
     ]
    }
   ],
   "source": [
    "phi, psi = np.pi * np.random.sample(2)\n",
    "\n",
    "y = surface_point([phi, psi])\n",
    "X = surface_patch(phi, psi, no_pts = 1000, size = 0.01)\n",
    "\n",
    "nvec = grad_desc_tangent(X, y)\n",
    "\n",
    "print(\"Result of the gradient descent: \", nvec)\n",
    "print(\"Actual normal: \", normal([phi, psi]))"
   ]
  },
  {
   "cell_type": "markdown",
   "metadata": {
    "collapsed": false,
    "pycharm": {
     "name": "#%% md\n"
    }
   },
   "source": [
    "### 2.3.5. Conclusion (**1 pt**)\n",
    "\n",
    "*   Share your conclusion about the performance of the gradient descent method\n",
    "\n",
    "...\n",
    "\n",
    "It works much better, than naїve approaches before. Not sure, but probably because for some reason pointcloud noise affects plane estimation much less.\n",
    "\n",
    "...\n"
   ]
  },
  {
   "cell_type": "markdown",
   "metadata": {
    "collapsed": false,
    "pycharm": {
     "name": "#%% md\n"
    }
   },
   "source": [
    "## 2.4. The PLA approach (**2 pts**)\n",
    "\n",
    "In Lab assignment 2, we used the PLA algorithm to construct a separating hyperplane for two sets of data. It can also be used in the current setting; the aim is to draw a plane that is above all the points of the surface patch"
   ]
  },
  {
   "cell_type": "code",
   "execution_count": 22,
   "metadata": {
    "collapsed": false,
    "pycharm": {
     "name": "#%%\n"
    }
   },
   "outputs": [],
   "source": [
    "#  The PLA algorithm\n",
    "def normal_pla(X, y, flag):\n",
    "  \"\"\"\n",
    "  flag = False switches off printing \n",
    "  \"\"\"\n",
    "  def misclassified(X, y, nvec):\n",
    "    return np.where(np.dot(X, nvec) > np.dot(y, nvec))[0]\n",
    "\n",
    "  # Initialize a normal vector\n",
    "  nvec = normal_estimate_lin(X,y)\n",
    "  misclass = misclassified(X, y, nvec)\n",
    "  if flag:\n",
    "    print(\"Step = \", 0, \"No. of points above the plane: \", len(misclass))\n",
    "\n",
    "  step = 0\n",
    "  while len(misclass) > 0 and step < 1000:\n",
    "    step += 1\n",
    "    i = np.random.choice(misclass)\n",
    "    ## update the nvec according to the PLA algorithm   \n",
    "    nvec = nvec - (X[i] - y)\n",
    "    ##\n",
    "    misclass =  misclassified(X, y, nvec)\n",
    "\n",
    "  if flag:  \n",
    "    print(\"Total number of steps: \", step, \";  No. of points above the plane: \", len(misclass))\n",
    "\n",
    "  return normalize(nvec)"
   ]
  },
  {
   "cell_type": "code",
   "execution_count": 23,
   "metadata": {
    "id": "Qm01XZ6aQbGN",
    "pycharm": {
     "name": "#%%\n"
    }
   },
   "outputs": [
    {
     "name": "stdout",
     "output_type": "stream",
     "text": [
      "Step =  0 No. of points above the plane:  468\n",
      "Total number of steps:  265 ;  No. of points above the plane:  0\n",
      "PLA method:  [-0.26157161  0.6445978  -0.71838288]\n",
      "Actual normal:  [-0.26291225  0.6433105  -0.71904711]\n"
     ]
    }
   ],
   "source": [
    "phi, psi = np.pi * np.random.sample(2)\n",
    "y = surface_point([phi,psi])\n",
    "X = surface_patch(phi, psi, 1000, 0.1)\n",
    "\n",
    "\n",
    "print(\"PLA method: \", normal_pla(X, y, True))\n",
    "print(\"Actual normal: \", normal([phi,psi]))\n"
   ]
  },
  {
   "cell_type": "markdown",
   "metadata": {
    "id": "8FSOS6HcEiFO",
    "pycharm": {
     "name": "#%% md\n"
    }
   },
   "source": [
    "---\n",
    "---\n",
    "# 3. A little bit of math behind the surface geometry (**4 pts**)"
   ]
  },
  {
   "cell_type": "markdown",
   "metadata": {
    "id": "W3XXdJJNbKgo",
    "pycharm": {
     "name": "#%% md\n"
    }
   },
   "source": [
    "## 3.1 Curvature of a planar curve\n",
    "\n",
    "Informally speaking, the curvature of a planar curve measures how fast its tangent (or normal) direction changes when we go along that line. Assume that $\\mathbf{s}(t) = (x(t), y(t), 0)$ is a curve in the $xy$-plane; denote by $\\mathbf{v}(t) = \\dot{\\mathbf{s}}(t)$ the velocity vector (which is tangent to the curve at each point). \n",
    "\n",
    "*   If $\\|\\mathbf{v}\\| \\equiv 1$, then the ***curvature*** $\\kappa(t)$ of the path $\\mathbf{s}(t)$ is equal to $\\|\\dot{\\mathbf{v}}(t)\\|$, i.e., the speed of change of $\\mathbf{v}(t)$. For instance, $\\dot{\\mathbf{v}}(t) \\equiv 0$ means no change of direction, and the curve is straight\n",
    "\n",
    "*   Otherwise, the curvature can be calculated as \n",
    "$$\n",
    "   \\kappa(t) = \\frac{\\|\\mathbf{v}(t) \\times \\dot{\\mathbf{v}}(t)\\|}{\\|\\mathbf{v}(t)\\|^3}\n",
    "$$\n"
   ]
  },
  {
   "cell_type": "markdown",
   "metadata": {
    "id": "9oGSi8hkbRjg",
    "pycharm": {
     "name": "#%% md\n"
    }
   },
   "source": [
    "\n",
    "## 3.2. **Examples** "
   ]
  },
  {
   "cell_type": "markdown",
   "metadata": {
    "id": "4URm-AwbfYw-",
    "pycharm": {
     "name": "#%% md\n"
    }
   },
   "source": [
    "\n",
    "### 3.2.1. Curvature of a circle\n",
    "\n",
    "The uniform rotation along the circle of radius $r$,\n",
    "$$\n",
    "  \\mathbf{s}(t) = (r \\cos t, r \\sin t, 0)\n",
    "$$\n",
    "has the velocity and acceleration equal to   \n",
    "$$\n",
    "  \\mathbf{v}(t) = (-r\\sin t, r\\cos t, 0), \\qquad \n",
    "  \\dot{\\mathbf{v}}(t) = - (r\\cos t, r \\sin t, 0);\n",
    "$$\n",
    "thus the curvature is \n",
    "$$\n",
    "  \\kappa = \\frac{\\|\\mathbf{v}(t) \\times \\dot{\\mathbf{v}}(t)\\|}{\\|\\mathbf{v}(t)\\|^3} \\equiv 1/r.\n",
    "$$\n",
    "This is natural since the larger the radius, the straighter the curve is.\n",
    "\n",
    "\n",
    "### 3.2.2. Curvature of a parabola\n",
    "\n",
    "The parabola $y = ax^2$ can be parametrized by $t=x$, so that \n",
    "$$\n",
    "  \\mathbf{s}(t) = (t, at^2, 0), \n",
    "  \\quad \n",
    "  \\mathbf{v}(t) = (1, 2at, 0),\n",
    "  \\quad \n",
    "  \\dot{\\mathbf{v}}(t) = (0, 2a, 0),\n",
    "$$\n",
    "and the curvature is \n",
    "$$\n",
    "  \\kappa(t) = \\frac{2a}{(1 + 4a^2t^2)^{3/2}};\n",
    "$$\n",
    "in particular, at the parabola vertex ($t=0$) the curvature is the largest one and is equal to $2a$.\n",
    "\n",
    "### 3.2.3. Curvature of an ellipsis\n",
    "\n",
    "Conisder an ellipsis in the $xy$-plane\n",
    "$$\n",
    "    \\mathbf{s}(t) = (a \\cos t, b \\sin t, 0)\n",
    "$$\n",
    "with half-axes $a$ and $b$. Then \n",
    "$$\n",
    "    \\mathbf{v}(t) = (-a \\sin t, b \\cos t, 0), \n",
    "    \\qquad\n",
    "    \\dot{\\mathbf{v}}(t) = - (a \\cos t, b \\sin t, 0) = - \\mathbf{s}(t)\n",
    "$$\n",
    "so that $\\|\\mathbf{v} \\times \\dot{\\mathbf{v}}\\| = ab$ and \n",
    "$$\n",
    "    \\kappa(t) = \\frac{ab}{(a^2 \\sin^2 t + b^2 \\cos^2 t)^{3/2}}\n",
    "     = \\frac{ab}{\\bigl[(bx/a)^2 + (ay/b)^2\\bigr]^{3/2}}\n",
    "     = \\frac{a^4b^4}{(b^4x^2 + a^4y^2)^{3/2}}\n",
    "$$"
   ]
  },
  {
   "cell_type": "markdown",
   "metadata": {
    "id": "vNUVA-0JVi7P",
    "pycharm": {
     "name": "#%% md\n"
    }
   },
   "source": [
    "## 3.3. Curvatures of a surface\n",
    "\n",
    "Consider now the surface $S$ given by the equation $f(x,y,z) = 0$ and take a point $P$ on that surface. The gradient $\\mathbf{n} = \\nabla f$ is a normal vector to the surface. The section $S \\cap \\pi$ by any plane $\\pi$ through $\\mathbf{n}$ is a curve with some curvature $\\kappa(\\pi)$ at the point $P$. Among the curvatures $\\kappa(\\pi)$ taken for all such planes $\\pi$, there is the largest one and the smallest one; these are called the ***principal curvatures*** of the surface $S$ at point $P$. The intersections of the tangent plane $\\tau$ and the corresponding $\\pi$ give the ***principal directions*** of the curve at the point $P$. \n",
    "\n",
    "Informally speaking, the principal directions are the directions on the surface $S$ through $P$ in which the paths on $S$ are the most curved and flattest at the point $P$, respectively. For an ellipsoid (e.g. a rugby ball), one of the principal directions will be the directed towards the vertex. We'll explain below why the principal curvatures are always orthogonal to each other"
   ]
  },
  {
   "cell_type": "markdown",
   "metadata": {
    "id": "KzD34SWHbl4U",
    "pycharm": {
     "name": "#%% md\n"
    }
   },
   "source": [
    "### 3.3.1. Normal parametrization\n",
    "\n",
    "Make a change of variables which \n",
    "\n",
    "*   translates the origin to the point $P$\n",
    "*   rotates the coordinates so that the direction of the $z$-axis coincides with the normal $\\nabla f$\n",
    "\n",
    "In these coordinates, the surface $S$ can be locally written as\n",
    "$$\n",
    "   z = a_{11} x^2 + 2a_{12}xy + a_{22} y^2 + \\omicron(x,y)\n",
    "$$\n",
    "where $\\omicron(x,y)$ is of order $3$ in $\\sqrt{x^2 + y^2}$. \n",
    "\n",
    "### 3.3.2. Normal sections\n",
    "\n",
    "Any normal section (i.e., section with a plane through the $z$-axis) corresponds to a direction $\\theta$ in the $xy$-plane, i.e., to the plane $\\pi_\\theta$ with $x =  t \\cos \\theta$, $y = t\\sin\\theta$ and arbitrary $z$. Ignoring the smaller order terms, we see that the section $S \\cap \\pi_\\theta$ is given by the parabola\n",
    "$$\n",
    "    z = c t^2, \\qquad c = a_{11} \\cos\\theta^2 + 2a_{12}\\cos\\theta\\sin\\theta + a_{22} \\sin\\theta^2\n",
    "$$\n",
    "The coefficient $c$ is the value of the quadratic form \n",
    "$$\n",
    "   Q(u,v) = a_{11} u^2 + 2a_{12}uv + a_{22} v^2\n",
    "$$\n",
    "on the unit circle $(u,v) = (\\cos\\theta, \\sin\\theta)$. \n",
    "\n",
    "From the linear algebra course we know that the smallest value of this quadratic form is the smaller eigenvalue of the corresponding coefficient matrix $A$, while the largest value is equal to the larger eigenvalue of $A$.\n",
    "\n",
    "### 3.3.3. Theorem on principal curvatures and principal directions\n",
    "The principal curvatures of the surface $S$ at the point $P$ are equal to $2\\lambda_1$ and $2\\lambda_2$, with $\\lambda_j$ being the eigenvalues of the coefficient matrix $A$ in the above repersentation. The corresponding principal directions are $(x_1,y_1,0)$ and $(x_2,y_2,0)$, where $(x_j,y_j)$ is the corresponding eigenvector; in particular, the principal directions are orthogonal to each other."
   ]
  },
  {
   "cell_type": "markdown",
   "metadata": {
    "id": "fOouXiWzL_4d",
    "pycharm": {
     "name": "#%% md\n"
    }
   },
   "source": [
    "## 3.4. Principal curvatures of an ellipsoid\n",
    "\n",
    "Consider the special case of an ellipsoid $E$ of (1) with $b = c$ (think of a rugby ball; such an ellipsoid is called spheroid). Take any point $P$ with $x = a \\cos\\phi\\sin\\psi$, $y = a \\sin\\phi\\sin\\psi$, and $z = b \\cos\\psi$ on $E$.\n",
    "\n",
    "Due to the symmetry of $E$, the normal $\\mathbf{n}$ and one of the principal directions $\\mathbf{d}_1$ belong to the plane $\\pi$ through $P$ and the $x$-axis, and the other principal direction $\\mathbf{d}_2$ is orthogonal to that plane. Since $\\mathbf{n} = (x/a^2, y/b^2, z/b^2)$, simple geometric considerations give  \n",
    "$$\n",
    "  \\mathbf{d}_1 = \\bigl({x^2 - a^2}, xy, xz\\bigr).\n",
    "$$\n",
    "The second principal direction is $\\mathbf{e}_1 \\times \\mathbf{d}_1$; after an appropiate scaling we get\n",
    "$$\n",
    "  \\mathbf{d}_2 =  (0, -z, y).\n",
    "$$\n",
    "\n",
    "Due to rotational symmetry about the $x$-axis, the section of $E$ by the plane $\\pi$ is an ellipsis that coincides with  \n",
    "$$\n",
    "  \\frac{x^2}{a^2} + \\frac{y^2}{b^2} = 1\n",
    "$$\n",
    "after proper rotation. Using the above formula for the curvature of the ellipsis, we conclude that the smaller principal curvature of the ellipsoid $E$ at the point  $P(x,y,z)$ is given by the formula \n",
    "$$\n",
    "   \\kappa_1 = \\frac{a^4b^4}{(b^4x^2 + a^4 y^2 + a^4 z^2)^{3/2}}\n",
    "%    =\\frac{ab^4}{[b^4 + a^2(a^2 - b^2)(y^2 + z^2)]^{3/2}}\n",
    "$$\n",
    "The second curvature $\\kappa_2$ can be found from the known product \n",
    "$$\n",
    "  K = \\kappa_1\\kappa_2 = \\frac{d^4}{a^2 b^4}\n",
    "  % = \\frac{a^2b^4}{[b^4 + (a^2 - b^2)(y^2 + z^2)]^{2}}\n",
    "$$\n",
    "called the **Gaussian curvature**; here $d$ is the distance from the origin to the tangent plane through $P$. Take the normal $\\mathbf{n} = (x/a^2,y/b^2, z/c^2)$ to $E$ at the point $P$; then  \n",
    "$$\n",
    "    d  = \\vec{OP}\\cdot \\mathbf{n}/\\|\\mathbf{n}\\| = 1/\\|\\mathbf{n}\\|\n",
    "$$\n",
    "and \n",
    "$$\n",
    "    K  = \\frac{a^6b^{12}}{(x^2b^8 + a^4b^4 y^2 + a^4b^4z^2)^2}.\n",
    "$$\n",
    "As a result,\n",
    "$$\n",
    "  \\kappa_2 = \\frac{K}{\\kappa_1}\n",
    "   = \\frac{a^2b^8(b^4x^2 + a^4 y^2 + a^4 z^2)^{3/2}}{(x^2b^8 + a^4b^4 y^2 + a^4b^4z^2)^2}\n",
    "$$"
   ]
  },
  {
   "cell_type": "markdown",
   "metadata": {
    "id": "NcPYXzWFDU7t",
    "pycharm": {
     "name": "#%% md\n"
    }
   },
   "source": [
    "### 3.4.1. **Remark** \n",
    "\n",
    "Curvatures can be both positive, both negative, of opposite signs, or zero. The signs depend on the direction of the normal. For convex body and external normals, the curvatures are non-positive. The reason is that under the normal parametrization, the surface will be below the plane $z=0$, so that the quadratic form $Q(u,v)$ will be negative (semi-)definite."
   ]
  },
  {
   "cell_type": "markdown",
   "metadata": {
    "id": "KKJ1w5-wNSZD",
    "pycharm": {
     "name": "#%% md\n"
    }
   },
   "source": [
    "## 3.5 Calculate the principal curvatures and the principal  directions (**1 pt**)\n",
    "\n",
    "A function that calculates the curvatures $\\kappa_1$ and $\\kappa_2$ and the direction vectors $\\mathbf{d}_1$, $\\mathbf{d}_2$"
   ]
  },
  {
   "cell_type": "code",
   "execution_count": 24,
   "metadata": {
    "executionInfo": {
     "elapsed": 3,
     "status": "ok",
     "timestamp": 1652932796429,
     "user": {
      "displayName": "Rostyslav Hryniv",
      "userId": "02208197071590517236"
     },
     "user_tz": -180
    },
    "id": "wszF979qNLwu",
    "pycharm": {
     "name": "#%%\n"
    }
   },
   "outputs": [],
   "source": [
    "def curvatures(y):\n",
    "  fctr_1 = (b**4 * (y[0])**2 +  a**4 * (y[1])**2 + a**4 * (y[2])**2)**(3/2)\n",
    "  fctr_2 =  (b**8 * (y[0])**2 + a**4 * b**4 * (y[1])**2 + a**4 * b**4 * (y[2])**2)**2 \n",
    "  kappa_1 = (a**4 * b**4)/fctr_1\n",
    "  kappa_2 = ((a**6 * b**12)/fctr_2)/kappa_1\n",
    "  return kappa_1, kappa_2"
   ]
  },
  {
   "cell_type": "code",
   "execution_count": 25,
   "metadata": {
    "executionInfo": {
     "elapsed": 2,
     "status": "ok",
     "timestamp": 1652932798371,
     "user": {
      "displayName": "Rostyslav Hryniv",
      "userId": "02208197071590517236"
     },
     "user_tz": -180
    },
    "id": "y3UIeb7UAFFx",
    "pycharm": {
     "name": "#%%\n"
    }
   },
   "outputs": [],
   "source": [
    "def directions(y):\n",
    "  pvec_1 = np.array([y[0]**2 - a**2, y[0] * y[1], y[0] * y[2]])\n",
    "  pvec_2 = np.array([0, -y[2], y[1]])\n",
    "\n",
    "  return normalize(pvec_1), normalize(pvec_2)"
   ]
  },
  {
   "cell_type": "markdown",
   "metadata": {
    "id": "dfU4d_pm7u-Y",
    "pycharm": {
     "name": "#%% md\n"
    }
   },
   "source": [
    "### 3.5.1. Check your code **(3 pts)**:\n",
    "\n",
    "1.   Think of the case $x=0$: what should be the curvatures?\n",
    "2.   Think of the case $x=a$: do you see why both curvatures must be equal? What they should be equal to? \n",
    "3.   Can you explain why the formulas for the princial directions break down for the points $x = \\pm a$?\n",
    "\n"
   ]
  },
  {
   "cell_type": "markdown",
   "metadata": {
    "id": "us1wXxCLLWcK",
    "pycharm": {
     "name": "#%% md\n"
    }
   },
   "source": [
    "---\n",
    "---\n",
    "# 4. Curvatures and principal directions for an ellipsoid (**15 pts**)"
   ]
  },
  {
   "cell_type": "markdown",
   "metadata": {},
   "source": [
    "In this practical part, your task will be to \n",
    "\n",
    "\n",
    "1.   For a given point $P = \\mathbf{y}_0$ of the ellipsis, move the origin to $P$\n",
    "2.   Rotate the coordinates to align the $z$-axis and the normal $\\mathbf{n}$ to $E$ at the point $P$\n",
    "3.   Use the multivariable weighted linear regression to fit the patch of $E$ around the point $P$ to the equation\n",
    "$$\n",
    "  z = a_{11}x^2 + 2a_{12}xy + a_{22}y^2 + a_1 x + b_1 y\n",
    "$$\n",
    "4.   Find the eigenvalues and eigenvectors of the symmetric matrix $A$ of the above quadratic form and form the principal curvatures of $E$ at the point $P$\n",
    "5.   Compare the curvatures $\\kappa_1$ and $\\kappa_2$ and principal directions $\\mathbf{d}_1$ and $\\mathbf{d}_2$ to the explicit theoretical values\n",
    "6.   Repeat the above steps for $N=100$ randomly selected points on $E$ and comment on the precision of the method\n",
    "\n"
   ]
  },
  {
   "cell_type": "markdown",
   "metadata": {
    "id": "QpFqUHFcLi0X",
    "pycharm": {
     "name": "#%% md\n"
    }
   },
   "source": [
    "## 4.1 Generate the data\n",
    "\n",
    "\n",
    "*   Choose a random point $\\mathbf{y}_0$ of $E$ by choosing the angles $\\phi$ and $\\psi$\n",
    "*   generate a surface patch (set of points $X$) around $\\mathbf{y}_0$\n",
    "*   estimate the normal vector $\\mathbf{n}$ by using the best method of part 2"
   ]
  },
  {
   "cell_type": "code",
   "execution_count": 127,
   "metadata": {},
   "outputs": [
    {
     "name": "stdout",
     "output_type": "stream",
     "text": [
      "The PLA estimate of the normal:  [0.15672676 0.95892884 0.2364153 ]\n",
      "The actual normal [0.15842159 0.95860108 0.23661479]\n"
     ]
    }
   ],
   "source": [
    "phi, psi = np.pi * np.random.rand(2)\n",
    "\n",
    "y = surface_point([phi,psi])\n",
    "X = surface_patch(phi, psi, no_pts = 1000, size = 0.1)\n",
    "\n",
    "nvec = normal_pla(X, y, False)\n",
    "\n",
    "print(\"The PLA estimate of the normal: \", nvec)\n",
    "print(\"The actual normal\", normal([phi,psi]))\n"
   ]
  },
  {
   "cell_type": "markdown",
   "metadata": {
    "id": "gBWuiy4QQp64",
    "pycharm": {
     "name": "#%% md\n"
    }
   },
   "source": [
    "## 4.2. Transform the data (**2 pts**)\n",
    "\n",
    "*   Apply translation to shift $\\mathbf{y}_0$ to the origin\n",
    "*   Apply rotation to align the normal $\\mathbf{n}$ with the $z$-direction\n",
    "*   To this end, first rotate in the $xy$-plane to achieve $y = 0$ (orthogonal matrix $U_y$); then rotate in the $xz$-plane to make $x=0$ (orthogonal matrix $U_x$)\n",
    "\n"
   ]
  },
  {
   "cell_type": "code",
   "execution_count": 128,
   "metadata": {
    "executionInfo": {
     "elapsed": 308,
     "status": "ok",
     "timestamp": 1652932514218,
     "user": {
      "displayName": "Rostyslav Hryniv",
      "userId": "02208197071590517236"
     },
     "user_tz": -180
    },
    "id": "C04XprbAz5S2",
    "pycharm": {
     "name": "#%%\n"
    }
   },
   "outputs": [],
   "source": [
    "#  rotation matrix (1 pt)\n",
    "def Urotation(nvec):\n",
    "  nvec = normalize(nvec)\n",
    "  norm = np.sqrt(nvec[0]**2 + nvec[1]**2)\n",
    "  U_y = np.array([[nvec[0]/norm, nvec[1]/norm, 0], [-nvec[1]/norm, nvec[0]/norm, 0], [0, 0, 1]])\n",
    "  ## \n",
    "  U_x = np.array([[nvec[2], 0, -norm], [0, 1, 0], [norm, 0, nvec[2]]])\n",
    "  ##\n",
    "  return np.dot(U_x, U_y)"
   ]
  },
  {
   "cell_type": "code",
   "execution_count": 129,
   "metadata": {
    "colab": {
     "base_uri": "https://localhost:8080/"
    },
    "executionInfo": {
     "elapsed": 263,
     "status": "ok",
     "timestamp": 1652932606217,
     "user": {
      "displayName": "Rostyslav Hryniv",
      "userId": "02208197071590517236"
     },
     "user_tz": -180
    },
    "id": "zmhZFP7jLTiU",
    "outputId": "2ca0e474-47fa-4988-d8a3-987d4e69dd32",
    "pycharm": {
     "name": "#%%\n"
    }
   },
   "outputs": [
    {
     "name": "stdout",
     "output_type": "stream",
     "text": [
      "[-2.85182225e-17  1.06550284e-17  1.00000000e+00]\n"
     ]
    }
   ],
   "source": [
    "Urotate = Urotation(nvec)\n",
    "print(np.dot(Urotate, nvec))"
   ]
  },
  {
   "cell_type": "code",
   "execution_count": 130,
   "metadata": {
    "executionInfo": {
     "elapsed": 275,
     "status": "ok",
     "timestamp": 1652932611316,
     "user": {
      "displayName": "Rostyslav Hryniv",
      "userId": "02208197071590517236"
     },
     "user_tz": -180
    },
    "id": "f7DMuoLlk8lm",
    "pycharm": {
     "name": "#%%\n"
    }
   },
   "outputs": [],
   "source": [
    "# translate and rotate the data\n",
    "\n",
    "def rotate_data(X, y, nvec): \n",
    "  Y = X - y\n",
    "  return np.dot(Urotation(nvec), Y.T).T"
   ]
  },
  {
   "cell_type": "code",
   "execution_count": 131,
   "metadata": {
    "colab": {
     "base_uri": "https://localhost:8080/",
     "height": 589
    },
    "executionInfo": {
     "elapsed": 1165,
     "status": "ok",
     "timestamp": 1652932616582,
     "user": {
      "displayName": "Rostyslav Hryniv",
      "userId": "02208197071590517236"
     },
     "user_tz": -180
    },
    "id": "S66puFW2lSFv",
    "outputId": "e0be95bd-befa-4917-a9fb-cbeebd717a56",
    "pycharm": {
     "name": "#%%\n"
    }
   },
   "outputs": [
    {
     "data": {
      "image/png": "[encoded data removed]",
      "text/plain": [
       "<Figure size 504x360 with 1 Axes>"
      ]
     },
     "metadata": {
      "needs_background": "light"
     },
     "output_type": "display_data"
    },
    {
     "data": {
      "image/png": "[encoded data removed]",
      "text/plain": [
       "<Figure size 504x360 with 1 Axes>"
      ]
     },
     "metadata": {
      "needs_background": "light"
     },
     "output_type": "display_data"
    }
   ],
   "source": [
    "#  transform the data and visualize the original and transformed patches\n",
    "\n",
    "V = rotate_data(X, y, nvec)\n",
    "\n",
    "########################## \n",
    "#  original patch\n",
    "##########################\n",
    "\n",
    "fig1 = plt.figure(figsize=(7, 5))\n",
    "ax1 = fig1.add_subplot(111, projection='3d')  \n",
    "ax1.scatter(X[:, 0], X[:, 1], X[:, 2])\n",
    "ax1.set_xlabel('X Label')\n",
    "ax1.set_ylabel('Y Label')\n",
    "ax1.set_zlabel('Z Label')\n",
    "plt.title(\"Original patch\")\n",
    "\n",
    "# Set axes limit\n",
    "#plt.xlim(-a,a)\n",
    "#plt.ylim(-b,b)\n",
    "\n",
    "##########################\n",
    "# rotated patch\n",
    "#########################\n",
    "\n",
    "fig2 = plt.figure(figsize=(7, 5))\n",
    "ax2 = fig2.add_subplot(111, projection='3d')\n",
    "ax2.scatter(V[:, 0], V[:, 1], V[:, 2])\n",
    "\n",
    "ax2.set_xlabel('X Label')\n",
    "ax2.set_ylabel('Y Label')\n",
    "ax2.set_zlabel('Z Label')\n",
    "plt.title(\"Rotated patch\")\n",
    "\n",
    "plt.show()\n"
   ]
  },
  {
   "cell_type": "markdown",
   "metadata": {
    "id": "e3053p7at8mv",
    "pycharm": {
     "name": "#%% md\n"
    }
   },
   "source": [
    "### 4.2.2. Testing (**1 pt**)\n",
    "\n",
    "Make sure the maximum $z$-value is 0 and that this value is attained at the origin: "
   ]
  },
  {
   "cell_type": "code",
   "execution_count": 132,
   "metadata": {
    "colab": {
     "base_uri": "https://localhost:8080/"
    },
    "executionInfo": {
     "elapsed": 269,
     "status": "ok",
     "timestamp": 1652932625699,
     "user": {
      "displayName": "Rostyslav Hryniv",
      "userId": "02208197071590517236"
     },
     "user_tz": -180
    },
    "id": "8Ju7WllAl8fq",
    "outputId": "b6790313-8258-4761-d112-4daf3a342c1a",
    "pycharm": {
     "name": "#%%\n"
    }
   },
   "outputs": [
    {
     "name": "stdout",
     "output_type": "stream",
     "text": [
      "-4.462385973778848e-05\n",
      "[-1.42909634e-02 -3.36283919e-03 -4.46238597e-05]\n"
     ]
    }
   ],
   "source": [
    "print(np.max(V[ : , 2]))\n",
    "##\n",
    "idx = np.argmax(V[:, 2])\n",
    "##\n",
    "print(V[idx])"
   ]
  },
  {
   "cell_type": "markdown",
   "metadata": {
    "id": "o2HiSgJQoku7",
    "pycharm": {
     "name": "#%% md\n"
    }
   },
   "source": [
    "## 4.3 Run the multivariate weighted regression (**8 pts**)\n",
    "\n",
    "Next we minimize the objective function\n",
    "\t\t$$\n",
    "\t\t\t\\sum_{k=1}^m w_k |z_k - f(x_k,y_k)|^2 \\to  \\min \\tag{1}\n",
    "\t\t$$\n",
    "where $f(x,y) = ax^2 + 2bxy + cy^2 +dx + ey$ and $\\mathbf{v}_k = (x_k,y_k,z_k)^\\top$ (expressed in the local coordinates), and $w_k$ are the weights of the points. This is the standard quadratic regression problem; reformulate it as a least square problem and derive the solution.  "
   ]
  },
  {
   "cell_type": "markdown",
   "metadata": {
    "id": "4XF_qlROpuvk",
    "pycharm": {
     "name": "#%% md\n"
    }
   },
   "source": [
    "### 4.3.1. Theoretical part (**3 pts**): \n",
    "1.   Rewrite (1) in the matrix notations\n",
    "$$\n",
    "X = \\begin{bmatrix}\n",
    "    x_{1}^{2} & 2x_{1}y_{1} & y_{1}^{2} & x_{1} & y_{1} \\\\\n",
    "    x_{2}^{2} & 2x_{2}y_{2} & y_{2}^{2} & x_{2} & y_{2} \\\\\n",
    "    x_{3}^{2} & 2x_{3}y_{3} & y_{3}^{2} & x_{3} & y_{3} \\\\\n",
    "    \\vdots & \\vdots & \\vdots  & \\vdots & \\vdots\\\\\n",
    "    x_{k}^{2} & 2x_{k}y_{k} & y_{k}^{2} & x_{k} & y_{k} \\\\\n",
    "\\end{bmatrix};\n",
    "W = \\begin{bmatrix}\n",
    "    w_{1} & 0 & 0 & \\dots & 0 \\\\\n",
    "    0 & w_{2} & 0 & \\dots & 0 \\\\\n",
    "    0 & 0 & w_{3} & \\dots & 0 \\\\\n",
    "    \\vdots & \\vdots & \\vdots & \\ddots & \\vdots \\\\\n",
    "    0 & 0 & 0 & \\dots & w_{k} \\\\\n",
    "\\end{bmatrix};\n",
    "\\beta = \\begin{bmatrix}\n",
    "           a \\\\\n",
    "           b \\\\\n",
    "           c \\\\\n",
    "           d \\\\\n",
    "           e \\\\\n",
    "\\end{bmatrix};\n",
    "\\beta = \\begin{bmatrix}\n",
    "           z_{1} \\\\\n",
    "           z_{2} \\\\\n",
    "           \\vdots \\\\\n",
    "           z_{k} \\\\\n",
    "\\end{bmatrix} \\\\ \\\\\n",
    "\n",
    "\\argmin_{\\beta} || W^{\\frac{1}{2}}(z - X\\beta) ||^{2}\n",
    "$$\n",
    "\n",
    "2.   Derive the closed form solution (the normal equation)\n",
    "$ \\newline \\hspace{1cm} \\newline $\n",
    "Let $\\'X = W^{\\frac{1}{2}}X \\\\$\n",
    "Let $\\'z = W^{\\frac{1}{2}}z \\\\$\n",
    "$ \\newline \\hspace{1cm} \\newline $\n",
    "$ \\\\ RSS(\\beta) = (\\'z - \\'X\\beta)^{T}(\\'z - \\'X\\beta) \\\\ $\n",
    "$ \\\\ RSS(\\beta) = \\'z^{T}\\'z - \\'z^{T}\\'X\\beta - \\beta^{T}\\'X^{T}\\'z + \\beta^{T}\\'X^{T}\\'X\\beta \\\\ $\n",
    "$ \\\\ RSS(\\beta) = \\'z^{T}\\'z - 2\\beta^{T}\\'X^{T}\\'z + \\beta^{T}\\'X^{T}\\'X\\beta $\n",
    "$ \\newline \\hspace{1cm} \\newline $\n",
    "Let differentiat with respect to $\\beta$\n",
    "$ \\newline \\hspace{1cm} \\newline $\n",
    "$ \\\\ \\frac{\\partial RSS}{\\partial \\beta} = 0 - 2\\'X^{T}\\'z + 2\\'X^{T}\\'X\\beta \\\\$\n",
    "$ \\newline \\hspace{1cm} \\newline $\n",
    "To minimize $RSS$ set derivative equal to 0\n",
    "$ \\newline \\hspace{1cm} \\newline $\n",
    "$ \\\\ \\frac{\\partial RSS}{\\partial \\beta} = 0 \\implies 0 - 2\\'X^{T}\\'z + 2\\'X^{T}\\'X\\beta = 0 \\implies \\'X^{T}(\\'z - \\'X\\beta) = 0 \\\\ $\n",
    "$ \\newline \\hspace{1cm} \\newline $\n",
    "Under ussumption that $\\'X$ is full column rank which means $\\'X^{T}\\'X$ is positive definite and invertible\n",
    "$ \\newline \\hspace{1cm} \\newline $\n",
    "$ \\\\ \\'X^{T}\\'z = \\'X^{T}\\'X\\beta \\implies (\\'X^{T}\\'X)^{-1}\\'X^{T}\\'z = \\hat \\beta \\\\ $"
   ]
  },
  {
   "cell_type": "markdown",
   "metadata": {
    "id": "O3DK_VBEukjn",
    "pycharm": {
     "name": "#%% md\n"
    }
   },
   "source": [
    "### 4.3.2. Coding part (**1 pt**)"
   ]
  },
  {
   "cell_type": "code",
   "execution_count": 143,
   "metadata": {
    "executionInfo": {
     "elapsed": 263,
     "status": "ok",
     "timestamp": 1652932723330,
     "user": {
      "displayName": "Rostyslav Hryniv",
      "userId": "02208197071590517236"
     },
     "user_tz": -180
    },
    "id": "EgChKrrD1K7Q",
    "pycharm": {
     "name": "#%%\n"
    }
   },
   "outputs": [],
   "source": [
    "# weighted multilinear regression\n",
    "def quadr_regr(V, c):\n",
    "  \"\"\"\n",
    "  V is the transformed surface patch\n",
    "  c is the hyperarameter in the weights\n",
    "  \"\"\"\n",
    "  wghts = weights(V, [0,0,0], c)\n",
    "  V_len  = len(V)\n",
    "  ##\n",
    "  A = np.vstack([ \n",
    "    V[:, 0]**2,           # a * x^2\n",
    "    V[:, 0]*V[:, 1]*2,    # b * 2xy\n",
    "    V[:, 1]**2,           # c * y^2\n",
    "    V[:, 0],              # d * x\n",
    "    V[:, 1]               # e * y\n",
    "  ])\n",
    "  ##\n",
    "  B = np.multiply(wghts, A)\n",
    "  b = wghts * V[:,2]\n",
    "  \n",
    "  return np.linalg.lstsq(B.T, b, rcond=None)[0]"
   ]
  },
  {
   "cell_type": "code",
   "execution_count": 144,
   "metadata": {
    "colab": {
     "base_uri": "https://localhost:8080/"
    },
    "executionInfo": {
     "elapsed": 6,
     "status": "ok",
     "timestamp": 1652932725470,
     "user": {
      "displayName": "Rostyslav Hryniv",
      "userId": "02208197071590517236"
     },
     "user_tz": -180
    },
    "id": "9uvBy1ky2oRr",
    "outputId": "40d46448-8e60-445c-d789-c1d4ceac9f29",
    "pycharm": {
     "name": "#%%\n"
    }
   },
   "outputs": [
    {
     "name": "stdout",
     "output_type": "stream",
     "text": [
      "[-0.17017066 -0.0041125  -0.0641751   0.00020578  0.0017304 ]\n"
     ]
    }
   ],
   "source": [
    "w = quadr_regr(V, 1000)\n",
    "print(w)"
   ]
  },
  {
   "cell_type": "markdown",
   "metadata": {
    "id": "9Rj6yARwrBXk",
    "pycharm": {
     "name": "#%% md\n"
    }
   },
   "source": [
    "### 4.3.3. **Questions (4 pts)**\n",
    "\n",
    "1.   Why are w[0] and w[2] expected to be negative?\n",
    "2.   Why are w[3] and w[4] expected to be small?\n",
    "\n",
    "...  \n",
    "... \n"
   ]
  },
  {
   "cell_type": "markdown",
   "metadata": {
    "id": "kbj5GYycvFZB",
    "pycharm": {
     "name": "#%% md\n"
    }
   },
   "source": [
    "## 4.4. Finding the curvatures and principal directions (**1 pt**)\n",
    "\n",
    "Take the quadratic part of the function $f(x,y)$, form the correponsing matrix $A$, and calculate its eigenvalues and eigenvectors"
   ]
  },
  {
   "cell_type": "code",
   "execution_count": 145,
   "metadata": {
    "colab": {
     "base_uri": "https://localhost:8080/"
    },
    "executionInfo": {
     "elapsed": 244,
     "status": "ok",
     "timestamp": 1652933827761,
     "user": {
      "displayName": "Rostyslav Hryniv",
      "userId": "02208197071590517236"
     },
     "user_tz": -180
    },
    "id": "8WirrrV645fa",
    "outputId": "9b27e994-e63a-478c-bdb3-f54b2d58bb64",
    "pycharm": {
     "name": "#%%\n"
    }
   },
   "outputs": [
    {
     "name": "stdout",
     "output_type": "stream",
     "text": [
      "Estimated curvatures:  [-0.34065996 -0.12803155]\n",
      "Actual curvatures:  (0.12812009583171055, 0.3406884535187834)\n"
     ]
    }
   ],
   "source": [
    "eval, evec = np.linalg.eigh([[w[0], w[1]], [w[1], w[2]]])\n",
    "\n",
    "print(\"Estimated curvatures: \", 2*eval)\n",
    "print(\"Actual curvatures: \", curvatures(y))\n"
   ]
  },
  {
   "cell_type": "markdown",
   "metadata": {
    "id": "ckVJNmgyv7AR",
    "pycharm": {
     "name": "#%% md\n"
    }
   },
   "source": [
    "***Question:*** Observe that the estimated curvatures are negative; this is due to the orientation of the surface. Take their absolute values and compare to the actual ones\n",
    "\n",
    "...  \n",
    "\n",
    "They are very similar to each other, though sorted differently\n",
    "\n",
    "..."
   ]
  },
  {
   "cell_type": "markdown",
   "metadata": {
    "id": "ZAKAFeOyfNqM",
    "pycharm": {
     "name": "#%% md\n"
    }
   },
   "source": [
    "### 4.4.2. Principal directions (**1 pt**)\n",
    "\n",
    "Augment the eigenvectors with $z = 0$ and find the estimated principal directions at the point $\\mathbf{y}_0$ (apply the inverse rotation)"
   ]
  },
  {
   "cell_type": "code",
   "execution_count": 141,
   "metadata": {
    "colab": {
     "base_uri": "https://localhost:8080/"
    },
    "executionInfo": {
     "elapsed": 4,
     "status": "ok",
     "timestamp": 1652933200945,
     "user": {
      "displayName": "Rostyslav Hryniv",
      "userId": "02208197071590517236"
     },
     "user_tz": -180
    },
    "id": "oubhQFkpKhhZ",
    "outputId": "27d7b398-3243-45ab-e90a-c867647d7a6e",
    "pycharm": {
     "name": "#%%\n"
    }
   },
   "outputs": [
    {
     "name": "stdout",
     "output_type": "stream",
     "text": [
      "Evaluated principal directions [-0.07630967 -0.22690053  0.97092378] [ 0.98468957 -0.17021051  0.03761416]\n",
      "Actual principal directions: (array([-0.98737156,  0.15380543,  0.03796432]), array([ 0.        , -0.23964109,  0.97086155]))\n"
     ]
    }
   ],
   "source": [
    "dir_v1 = np.append(evec[0], 0)\n",
    "\n",
    "dir_vec1 = np.dot(np.linalg.inv(Urotate), dir_v1).T\n",
    "\n",
    "dir_v2 = np.append(evec[1], 0)\n",
    "\n",
    "dir_vec2 = np.dot(np.linalg.inv(Urotate), dir_v2).T\n",
    "\n",
    "print(\"Evaluated principal directions\", dir_vec1, dir_vec2)\n",
    "print(\"Actual principal directions:\", directions(y))\n"
   ]
  },
  {
   "cell_type": "markdown",
   "metadata": {
    "id": "0MyF14YngHfI",
    "pycharm": {
     "name": "#%% md\n"
    }
   },
   "source": [
    "## 4.5. Testing (**4 pts**)\n",
    "\n",
    "Test the above procedure for $n=100$ random points and evaluate the efficiency of the curvature estimation. Think of an appropriate metric and explain your choice\n",
    "\n",
    "...  \n",
    "...\n"
   ]
  },
  {
   "cell_type": "code",
   "execution_count": 159,
   "metadata": {
    "id": "7M7F8TMxgc0j",
    "pycharm": {
     "name": "#%%\n"
    }
   },
   "outputs": [
    {
     "name": "stdout",
     "output_type": "stream",
     "text": [
      "min:  5.919163413867607e-06\n",
      "max:  0.0005798974900927917\n"
     ]
    }
   ],
   "source": [
    "## your code here\n",
    "\n",
    "ED = []\n",
    "for _ in range(100):\n",
    "    phi_, psi_ = np.pi * np.random.rand(2)\n",
    "\n",
    "    y_ = surface_point([phi_,psi_])\n",
    "    X_ = surface_patch(phi_, psi_, no_pts = 1000, size = 0.1)\n",
    "\n",
    "    nvec_ = normal_pla(X_, y_, False)\n",
    "\n",
    "    V_ = rotate_data(X_, y_, nvec_)\n",
    "    w_ = quadr_regr(V_, 1000)\n",
    "    eval_, _ = np.linalg.eigh([[w_[0], w_[1]], [w_[1], w_[2]]])\n",
    "    real = np.array(sorted(abs(eval_*2)))\n",
    "    expected = np.array(sorted(curvatures(y_)))\n",
    "    ED += [np.linalg.norm(real-expected)]\n",
    "ED=np.array(ED)\n",
    "print(\"min: \", np.amin(ED))\n",
    "print(\"max: \", np.amax(ED))\n",
    "print(\"mean: \", np.mean(ED))\n",
    "print(\"median: \", np.median(ED))\n",
    "print(\"std: \", np.std(ED))\n",
    "print(\"var: \", np.var(ED))"
   ]
  },
  {
   "cell_type": "markdown",
   "metadata": {
    "id": "vga1kj21Hzqg",
    "pycharm": {
     "name": "#%% md\n"
    }
   },
   "source": [
    "\n",
    "\n",
    "In this practical part, your task will be to \n",
    "\n",
    "\n",
    "1.   For a given point $P = \\mathbf{y}_0$ of the ellipsis, move the origin to $P$\n",
    "2.   Rotate the coordinates to align the $z$-axis and the normal $\\mathbf{n}$ to $E$ at the point $P$\n",
    "3.   Use the multivariable weighted linear regression to fit the patch of $E$ around the point $P$ to the equation\n",
    "$$\n",
    "  z = a_{11}x^2 + 2a_{12}xy + a_{22}y^2 + a_1 x + b_1 y\n",
    "$$\n",
    "4.   Find the eigenvalues and eigenvectors of the symmetric matrix $A$ of the above quadratic form and form the principal curvatures of $E$ at the point $P$\n",
    "5.   Compare the curvatures $\\kappa_1$ and $\\kappa_2$ and principal directions $\\mathbf{d}_1$ and $\\mathbf{d}_2$ to the explicit theoretical values\n",
    "6.   Repeat the above steps for $N=100$ randomly selected points on $E$ and comment on the precision of the method\n",
    "\n",
    "\n"
   ]
  },
  {
   "cell_type": "markdown",
   "metadata": {
    "id": "4vnJdmCpEW4u",
    "pycharm": {
     "name": "#%% md\n"
    }
   },
   "source": [
    "## 5. Summary **(4 pts)**\n",
    "\n",
    "Write a short report about the work you did.\n",
    "\n",
    "Do not forget to discuss the following points:\n",
    "\n",
    "*   what approaches to estimate normals you tried;\n",
    "    1) Naive approach that directly estimated minimized $\\sum_{k=1}^{m} n(x_i-x_0)$, resulted in just -normalized average of translated points from surface patch. \n",
    "    2) Weighted naive approach, where weights are exponentially smaller for points that are further from $y_0$. Looks to me like works even worse then the previous one.\n",
    "    3) Estimate tangent plane to the surface near generated patch. Resulted in the similar, loss function to minimize: $f(\\mathbf{n}) = \\sum_{k=1}^{m} w_k |\\mathbf{n} \\cdot (\\mathbf{y}_k-\\mathbf{y}_0)|$\n",
    "    4) PLA aproach - At each iteration we move our normal so that all points are on the one side from plane those normal is our surface patch normal at $y_0$.\n",
    "\n",
    "*   which of them worked and which failed, and why\n",
    "    Naive worked, but quite bad, and required a whole lot of points to start approaching actual normal. Looks like is not very stable, since from generation to generaion for the same patch size works better or quite worse. \n",
    "   \n",
    "\n",
    "    The weighted worked even worse, unless I make `c` very small, so that is becomes practically naive. Not sure why, but I think that since weights are exponential, this is quite similar to just removal of points. But as we saw, naive worked very bad unless there are a lot of generated points.\n",
    "\n",
    "    Tangent plance estimation and PLA both worked very well. Both work no directly with points, but rather through tangent place estimated by points. Looks like plane estimation is much less sensitive to point generation, so it gives much better estimate of normal. \n",
    "\n",
    "\n",
    "*   a general idea behind estimating principal curvatures\n",
    "    \n",
    "    The main idea - translate and rotate our points so that $y_0 \\rightarrow [0, 0, 1]$. After that it is quite easy to fit patch of points to paraboloid. After we fitted points, as it turnes out, eigen values of quadratic form equal to 1/2 * principal curvatures. So using some linear algebra, after fit we can determine principal curvatures. Also eigenvectors are a principal directions, so by using inverse transformation from normal parametrization, we can derive principal directions.  \n",
    "\n",
    "*   any difficulties you had completing the tasks.\n",
    "    - I derived closed solution for naive normal estimation in a very stupid way and overcomplicated if for some reason. In a vector form, solution is trivial. Other parts of normal esimation were quite understandable. \n",
    "\n"
   ]
  },
  {
   "cell_type": "markdown",
   "metadata": {
    "id": "P9b3H3Hxg6uk",
    "pycharm": {
     "name": "#%% md\n"
    }
   },
   "source": [
    "## 6. Comments and suggestions to improve this lab assignment (optional, up to 4 extra points)\n",
    "\n"
   ]
  }
 ],
 "metadata": {
  "colab": {
   "collapsed_sections": [
    "M7Tv7PIyzYBF",
    "OFsnufXK61kA",
    "d52C9C_E61kC",
    "-jhOKVt2L-Dc",
    "ANvH4RGGtkuj",
    "s__b_L52NBKv",
    "CKf3wYqXGlBv",
    "T8i7KYjZPIa7",
    "jBZrVDkTRG2r",
    "c6S9YQdwPtnF",
    "lIsw6hajQPMF",
    "xHTJoPmEw0Kx",
    "i5dQiQduRnGj",
    "2GrROZOQSOF_",
    "1m2xN6HqPae5",
    "yRo20CKMRShn",
    "uaNbrcJEAWlS",
    "9oGSi8hkbRjg",
    "vNUVA-0JVi7P",
    "gBWuiy4QQp64",
    "o2HiSgJQoku7",
    "kbj5GYycvFZB",
    "0MyF14YngHfI",
    "4vnJdmCpEW4u"
   ],
   "name": "Lab1-geom.ipynb",
   "provenance": [
    {
     "file_id": "1D7IaJSLqArtv1AulIPxZtVOobLwkX6zh",
     "timestamp": 1652881629236
    },
    {
     "file_id": "14mUqSatP44K_WmlPCKVhu0vbr2FAtEkD",
     "timestamp": 1651490657361
    }
   ]
  },
  "interpreter": {
   "hash": "e7370f93d1d0cde622a1f8e1c04877d8463912d04d973331ad4851f04de6915a"
  },
  "kernelspec": {
   "display_name": "Python 3.10.4 64-bit",
   "language": "python",
   "name": "python3"
  },
  "language_info": {
   "codemirror_mode": {
    "name": "ipython",
    "version": 3
   },
   "file_extension": ".py",
   "mimetype": "text/x-python",
   "name": "python",
   "nbconvert_exporter": "python",
   "pygments_lexer": "ipython3",
   "version": "3.10.4"
  }
 },
 "nbformat": 4,
 "nbformat_minor": 0
}
